{
  "cells": [
    {
      "cell_type": "markdown",
      "metadata": {
        "id": "2wGs1HX0LU5S"
      },
      "source": [
        "BLOOD TEST ANALYZER MODEL\n"
      ]
    },
    {
      "cell_type": "code",
      "execution_count": null,
      "metadata": {
        "collapsed": true,
        "id": "cJ9837xm5mo0"
      },
      "outputs": [],
      "source": [
        "#Import Statements\n",
        "\n",
        "from sklearn.ensemble import RandomForestClassifier\n",
        "from sklearn.pipeline import Pipeline\n",
        "from sklearn.preprocessing import OneHotEncoder, QuantileTransformer\n",
        "from sklearn.model_selection import GridSearchCV\n",
        "import pandas as pd\n",
        "from sklearn.compose import ColumnTransformer\n",
        "import matplotlib.pyplot as plt\n",
        "from sklearn.metrics import classification_report\n",
        "from sklearn.multioutput import MultiOutputClassifier\n",
        "import warnings\n",
        "\n",
        "\n",
        "\n",
        "# Load the dataset and define columns\n",
        "\n",
        "file_path_btest = 'btest_dataset.csv'\n",
        "df = pd.read_csv(file_path_btest)\n",
        "numeric_columns = ['Age','Hemoglobin','Hematocrit','WBC','Platelets','MCH','MCV']\n",
        "categorical_columns = ['Sex']\n",
        "\n",
        "\n",
        "# Set up a column transformer to process the numerical and categorical columns\n",
        "\n",
        "pre_processor = ColumnTransformer(transformers=[\n",
        "    ('num', QuantileTransformer(n_quantiles=250), numeric_columns),\n",
        "    ('cat', OneHotEncoder(sparse_output = False), categorical_columns)\n",
        "])\n",
        "\n",
        "\n",
        "# Create a Pipeline\n",
        "\n",
        "pipe = Pipeline([\n",
        "    ('pre_processor', pre_processor),\n",
        "    ('model', MultiOutputClassifier(RandomForestClassifier()))\n",
        "])\n",
        "\n",
        "\n",
        "# Create parameters for the grid\n",
        "\n",
        "param_grid = {\n",
        "    'model__estimator__n_estimators': [100, 200],\n",
        "    'model__estimator__max_depth': [10, 20, None],\n",
        "    'model__estimator__min_samples_split': [2, 5],\n",
        "    'model__estimator__min_samples_leaf': [1, 2]\n",
        "}\n",
        "\n",
        "\n",
        "# Create a grid\n",
        "\n",
        "grid1 = GridSearchCV(\n",
        "    estimator=pipe,\n",
        "    param_grid=param_grid,\n",
        "    scoring='f1_weighted',\n",
        "    cv=5\n",
        ")\n",
        "\n",
        "\n",
        "# Fit data and predict\n",
        "\n",
        "X = df[['Age','Sex','Hemoglobin','Hematocrit','WBC','Platelets','MCH','MCV',]]\n",
        "y = df[['Hemoglobin_Status','Hematocrit_Status','WBC_Status','Platelets_Status','MCH_Status','MCV_Status','Condition']]\n",
        "\n",
        "warnings.filterwarnings(\"ignore\", category=UserWarning)\n",
        "\n",
        "grid1.fit(X,y)\n",
        "prediction = grid1.predict(X)"
      ]
    },
    {
      "cell_type": "markdown",
      "metadata": {
        "id": "ObwcGFBZLiXB"
      },
      "source": [
        "EFFICIENCY GRAPH BLOOD TEST ANALYZER MODEL\n",
        "\n",
        "This cell plots graphs comparing the true and predicted values, showing that the model makes accurate predictions."
      ]
    },
    {
      "cell_type": "code",
      "execution_count": null,
      "metadata": {
        "colab": {
          "base_uri": "https://localhost:8080/",
          "height": 1000
        },
        "collapsed": true,
        "id": "gOrxrziMvmrB",
        "outputId": "790a5d4c-f992-42c8-8872-16a807bcdb7c"
      },
      "outputs": [],
      "source": [
        "# Creating a graph to check the accuracy of the model\n",
        "\n",
        "\n",
        "pred_df = pd.DataFrame(prediction, columns=y.columns)\n",
        "\n",
        "for col in y.columns:\n",
        "    plt.figure(figsize=(8,4))\n",
        "\n",
        "    real_counts = y[col].value_counts(normalize=True).sort_index()\n",
        "    pred_counts = pred_df[col].value_counts(normalize=True).sort_index()\n",
        "\n",
        "    width = 0.35\n",
        "    labels = sorted(set(y[col]) | set(pred_df[col]))\n",
        "\n",
        "    real_vals = [real_counts.get(label, 0) for label in labels]\n",
        "    pred_vals = [pred_counts.get(label, 0) for label in labels]\n",
        "\n",
        "    x = range(len(labels))\n",
        "\n",
        "    plt.bar(x, real_vals, width=width, label='Real', align='center')\n",
        "    plt.bar([p + width for p in x], pred_vals, width=width, label='Predicted', align='center')\n",
        "\n",
        "    plt.xticks([p + width/2 for p in x], labels)\n",
        "    plt.title(f'Comparision Real vs Predicted - {col}')\n",
        "    plt.ylabel('Proportion of samples')\n",
        "    plt.legend()\n",
        "    plt.tight_layout()\n",
        "    plt.show()\n"
      ]
    },
    {
      "cell_type": "markdown",
      "metadata": {
        "id": "irRd3hydesIS"
      },
      "source": [
        "SYMPTOMS ANALYZER MODEL"
      ]
    },
    {
      "cell_type": "code",
      "execution_count": null,
      "metadata": {
        "id": "SBJsxl318rgn"
      },
      "outputs": [],
      "source": [
        "# Import statements\n",
        "from sklearn.ensemble import RandomForestClassifier\n",
        "from sklearn.pipeline import Pipeline\n",
        "from sklearn.preprocessing import OneHotEncoder, QuantileTransformer\n",
        "from sklearn.model_selection import GridSearchCV\n",
        "from sklearn.compose import ColumnTransformer\n",
        "import pandas as pd\n",
        "import warnings\n",
        "\n",
        "\n",
        "# Load dataset\n",
        "file_path_symp = 'symptoms_dataset.csv'\n",
        "df = pd.read_csv(file_path_symp)\n",
        "\n",
        "\n",
        "# Clean dataset\n",
        "df.columns = df.columns.str.replace('\"', '', regex=False)\n",
        "\n",
        "\n",
        "# Define numeric, categorical and symptom columns\n",
        "numeric_column = ['Age']\n",
        "categorical_columns = df.drop(['Age','Disease'], axis=1).columns.to_list()\n",
        "\n",
        "\n",
        "# Create a pre_processor\n",
        "pre_processor = ColumnTransformer(transformers=[\n",
        "    ('num', QuantileTransformer(n_quantiles=250), numeric_column),\n",
        "    ('cat', OneHotEncoder(sparse_output=False, handle_unknown='ignore'), categorical_columns)\n",
        "])\n",
        "\n",
        "\n",
        "# Create a pipeline\n",
        "pipe = Pipeline([\n",
        "    ('pre_processor', pre_processor),\n",
        "    ('model', RandomForestClassifier())\n",
        "])\n",
        "\n",
        "\n",
        "# Define parameter grid\n",
        "param_grid = {\n",
        "    'model__n_estimators': [100, 200],\n",
        "    'model__max_depth': [10, 20, None],\n",
        "    'model__min_samples_split': [2, 5],\n",
        "    'model__min_samples_leaf': [1, 2]\n",
        "}\n",
        "\n",
        "\n",
        "# Create grid search\n",
        "grid2 = GridSearchCV(\n",
        "    estimator=pipe,\n",
        "    param_grid=param_grid,\n",
        "    scoring='f1_weighted',\n",
        "    cv=5\n",
        ")\n",
        "\n",
        "\n",
        "# Define X and y\n",
        "X = df.drop('Disease', axis=1)\n",
        "y = df['Disease']\n",
        "\n",
        "\n",
        "# Ignore warnings and fit model\n",
        "warnings.filterwarnings(\"ignore\", category=UserWarning)\n",
        "\n",
        "grid2.fit(X, y)\n",
        "prediction = grid2.predict(X)\n"
      ]
    },
    {
      "cell_type": "markdown",
      "metadata": {
        "id": "U8R04p8rfOqr"
      },
      "source": [
        "EFFICIENCY GRAPH SYMPTOMS ANALYZER MODEL\n",
        "\n",
        "This cell plots a graph comparing the true and predicted values, showing that the model makes accurate predictions."
      ]
    },
    {
      "cell_type": "code",
      "execution_count": null,
      "metadata": {
        "colab": {
          "base_uri": "https://localhost:8080/",
          "height": 483
        },
        "collapsed": true,
        "id": "S51HCK9TzelC",
        "outputId": "dd4ffb21-4a06-4cdd-e372-d6fccec6f09d"
      },
      "outputs": [],
      "source": [
        "# Import statements\n",
        "\n",
        "import matplotlib.pyplot as plt\n",
        "\n",
        "\n",
        "# Create a graph to compare values from the 10 most common diseases\n",
        "\n",
        "\n",
        "top_diseases = pd.Series(y).value_counts().head(10).index\n",
        "\n",
        "mask = pd.Series(y).isin(top_diseases)\n",
        "filtered_y = pd.Series(y)[mask].reset_index(drop=True)\n",
        "filtered_pred = pd.Series(prediction)[mask].reset_index(drop=True)\n",
        "\n",
        "plt.figure(figsize=(12, 6))\n",
        "plt.plot(filtered_y.index, filtered_y, label='Real', marker='o', linestyle='', alpha=0.7)\n",
        "plt.plot(filtered_pred.index, filtered_pred, label='Predicted', marker='x', linestyle='', alpha=0.7)\n",
        "plt.title('Real vs Predicted Diseases (Top 10 Most Frequent)')\n",
        "plt.xlabel('Sample Index')\n",
        "plt.ylabel('Disease')\n",
        "plt.legend()\n",
        "plt.xticks(rotation=45)\n",
        "plt.tight_layout()\n",
        "plt.show()\n",
        "\n",
        "\n"
      ]
    },
    {
      "cell_type": "markdown",
      "metadata": {
        "id": "4zFK9_W_RKKl"
      },
      "source": [
        "SAVING TRAINED MODELs"
      ]
    },
    {
      "cell_type": "code",
      "execution_count": null,
      "metadata": {
        "colab": {
          "base_uri": "https://localhost:8080/"
        },
        "id": "A9MNe7P0Ktl2",
        "outputId": "61e9ff92-0e32-418c-a517-dc410a71fc84"
      },
      "outputs": [
        {
          "data": {
            "text/plain": [
              "['btest_model.pkl']"
            ]
          },
          "execution_count": 6,
          "metadata": {},
          "output_type": "execute_result"
        }
      ],
      "source": [
        "#Saving trained models\n",
        "\n",
        "import joblib\n",
        "\n",
        "joblib.dump(grid2.best_estimator_, 'symptoms_model.pkl')\n",
        "joblib.dump(grid1.best_estimator_,'btest_model.pkl')"
      ]
    }
  ],
  "metadata": {
    "colab": {
      "provenance": []
    },
    "kernelspec": {
      "display_name": ".venv",
      "language": "python",
      "name": "python3"
    },
    "language_info": {
      "codemirror_mode": {
        "name": "ipython",
        "version": 3
      },
      "file_extension": ".py",
      "mimetype": "text/x-python",
      "name": "python",
      "nbconvert_exporter": "python",
      "pygments_lexer": "ipython3",
      "version": "3.13.1"
    }
  },
  "nbformat": 4,
  "nbformat_minor": 0
}
